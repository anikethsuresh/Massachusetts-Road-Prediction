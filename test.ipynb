{
 "cells": [
  {
   "cell_type": "code",
   "execution_count": 1,
   "metadata": {},
   "outputs": [
    {
     "name": "stdout",
     "output_type": "stream",
     "text": [
      "True\n"
     ]
    },
    {
     "data": {
      "text/plain": [
       "[PhysicalDevice(name='/physical_device:GPU:0', device_type='GPU')]"
      ]
     },
     "execution_count": 1,
     "metadata": {},
     "output_type": "execute_result"
    }
   ],
   "source": [
    "import tensorflow as tf\n",
    "import numpy as np\n",
    "print(tf.test.is_built_with_cuda())\n",
    "tf.config.list_physical_devices('GPU')"
   ]
  },
  {
   "cell_type": "code",
   "execution_count": 3,
   "metadata": {},
   "outputs": [],
   "source": [
    "mnist = tf.keras.datasets.mnist\n",
    "\n",
    "(x_train, y_train), (x_test, y_test) = mnist.load_data()"
   ]
  },
  {
   "cell_type": "code",
   "execution_count": 4,
   "metadata": {},
   "outputs": [],
   "source": [
    "x_train, x_test = x_train / 255.0, x_test / 255.0"
   ]
  },
  {
   "cell_type": "code",
   "execution_count": 6,
   "metadata": {},
   "outputs": [
    {
     "data": {
      "text/plain": [
       "(60000, 28, 28)"
      ]
     },
     "execution_count": 6,
     "metadata": {},
     "output_type": "execute_result"
    }
   ],
   "source": [
    "x_train.shape"
   ]
  },
  {
   "cell_type": "code",
   "execution_count": 30,
   "metadata": {},
   "outputs": [
    {
     "name": "stdout",
     "output_type": "stream",
     "text": [
      "hello, [[4.]]\n"
     ]
    }
   ],
   "source": [
    "x = [[2.]]\n",
    "m = tf.matmul(x, x)\n",
    "print(\"hello, {}\".format(m))"
   ]
  },
  {
   "cell_type": "code",
   "execution_count": 54,
   "metadata": {},
   "outputs": [
    {
     "name": "stdout",
     "output_type": "stream",
     "text": [
      "(None, 28, 28)\n",
      "(None, 10)\n"
     ]
    }
   ],
   "source": [
    "model = tf.keras.Sequential()\n",
    "model.add(tf.keras.layers.Flatten(input_shape=(28, 28)))\n",
    "model.add(tf.keras.layers.Dense(128, activation='relu'))\n",
    "model.add(tf.keras.layers.Dropout(0.2))\n",
    "model.add(tf.keras.layers.Dense(10))\n",
    "print(model.input_shape)\n",
    "print(model.output_shape)"
   ]
  },
  {
   "cell_type": "code",
   "execution_count": 56,
   "metadata": {},
   "outputs": [
    {
     "data": {
      "text/plain": [
       "array([[ 0.11070166,  0.21407072, -0.0931119 ,  0.02396189,  0.25976333,\n",
       "         0.00062557, -0.16057843, -0.2549437 , -0.14891797,  0.2648745 ]],\n",
       "      dtype=float32)"
      ]
     },
     "execution_count": 56,
     "metadata": {},
     "output_type": "execute_result"
    }
   ],
   "source": [
    "predictions = model(x_train[:1]).numpy()\n",
    "predictions"
   ]
  },
  {
   "cell_type": "code",
   "execution_count": 63,
   "metadata": {},
   "outputs": [
    {
     "data": {
      "text/plain": [
       "2.339244"
      ]
     },
     "execution_count": 63,
     "metadata": {},
     "output_type": "execute_result"
    }
   ],
   "source": [
    "loss_fn = tf.keras.losses.SparseCategoricalCrossentropy(from_logits=True)\n",
    "loss_fn(y_train[:1], predictions).numpy()"
   ]
  },
  {
   "cell_type": "code",
   "execution_count": 64,
   "metadata": {},
   "outputs": [
    {
     "data": {
      "text/plain": [
       "array([5, 0, 4, ..., 5, 6, 8], dtype=uint8)"
      ]
     },
     "execution_count": 64,
     "metadata": {},
     "output_type": "execute_result"
    }
   ],
   "source": [
    "y_train"
   ]
  },
  {
   "cell_type": "code",
   "execution_count": 60,
   "metadata": {},
   "outputs": [
    {
     "name": "stdout",
     "output_type": "stream",
     "text": [
      "Epoch 1/5\n",
      "1875/1875 [==============================] - 3s 1ms/step - loss: 0.2902 - accuracy: 0.9172\n",
      "Epoch 2/5\n",
      "1875/1875 [==============================] - 3s 1ms/step - loss: 0.1443 - accuracy: 0.9570\n",
      "Epoch 3/5\n",
      "1875/1875 [==============================] - 3s 1ms/step - loss: 0.1069 - accuracy: 0.9669\n",
      "Epoch 4/5\n",
      "1875/1875 [==============================] - 3s 1ms/step - loss: 0.0892 - accuracy: 0.9732\n",
      "Epoch 5/5\n",
      "1875/1875 [==============================] - 3s 1ms/step - loss: 0.0738 - accuracy: 0.9766\n"
     ]
    },
    {
     "data": {
      "text/plain": [
       "<tensorflow.python.keras.callbacks.History at 0x1dfa7ffa208>"
      ]
     },
     "execution_count": 60,
     "metadata": {},
     "output_type": "execute_result"
    }
   ],
   "source": [
    "model.compile(optimizer='adam',\n",
    "              loss=loss_fn,\n",
    "              metrics=['accuracy'])\n",
    "model.fit(x_train, y_train, epochs=5)"
   ]
  },
  {
   "cell_type": "code",
   "execution_count": 61,
   "metadata": {},
   "outputs": [
    {
     "name": "stdout",
     "output_type": "stream",
     "text": [
      "313/313 - 0s - loss: 0.0736 - accuracy: 0.9768\n"
     ]
    },
    {
     "data": {
      "text/plain": [
       "[0.07355374097824097, 0.9768000245094299]"
      ]
     },
     "execution_count": 61,
     "metadata": {},
     "output_type": "execute_result"
    }
   ],
   "source": [
    "model.evaluate(x_test,  y_test, verbose=2)"
   ]
  },
  {
   "cell_type": "code",
   "execution_count": 62,
   "metadata": {},
   "outputs": [
    {
     "data": {
      "text/plain": [
       "<tf.Tensor: shape=(1, 10), dtype=float32, numpy=\n",
       "array([[6.6439156e-07, 5.9646815e-08, 5.7217603e-06, 2.8883427e-04,\n",
       "        1.8620451e-11, 2.6971527e-06, 2.6773525e-12, 9.9954212e-01,\n",
       "        4.8971397e-06, 1.5505942e-04]], dtype=float32)>"
      ]
     },
     "execution_count": 62,
     "metadata": {},
     "output_type": "execute_result"
    }
   ],
   "source": [
    "probability_model = tf.keras.Sequential([\n",
    "  model,\n",
    "  tf.keras.layers.Softmax()\n",
    "])\n",
    "probability_model(x_test[:1])"
   ]
  },
  {
   "cell_type": "code",
   "execution_count": 2,
   "metadata": {},
   "outputs": [],
   "source": [
    "loaded = tf.saved_model.load(\"saved_models/my_model\")"
   ]
  },
  {
   "cell_type": "code",
   "execution_count": 4,
   "metadata": {},
   "outputs": [
    {
     "data": {
      "text/plain": [
       "['__call__',\n",
       " '__class__',\n",
       " '__delattr__',\n",
       " '__dict__',\n",
       " '__dir__',\n",
       " '__doc__',\n",
       " '__eq__',\n",
       " '__format__',\n",
       " '__ge__',\n",
       " '__getattribute__',\n",
       " '__gt__',\n",
       " '__hash__',\n",
       " '__init__',\n",
       " '__init_subclass__',\n",
       " '__le__',\n",
       " '__lt__',\n",
       " '__module__',\n",
       " '__ne__',\n",
       " '__new__',\n",
       " '__reduce__',\n",
       " '__reduce_ex__',\n",
       " '__repr__',\n",
       " '__setattr__',\n",
       " '__sizeof__',\n",
       " '__str__',\n",
       " '__subclasshook__',\n",
       " '__weakref__',\n",
       " '_add_variable_with_custom_getter',\n",
       " '_checkpoint_dependencies',\n",
       " '_default_save_signature',\n",
       " '_deferred_dependencies',\n",
       " '_gather_saveables_for_checkpoint',\n",
       " '_handle_deferred_dependencies',\n",
       " '_list_extra_dependencies_for_serialization',\n",
       " '_list_functions_for_serialization',\n",
       " '_lookup_dependency',\n",
       " '_map_resources',\n",
       " '_maybe_initialize_trackable',\n",
       " '_name_based_attribute_restore',\n",
       " '_name_based_restores',\n",
       " '_no_dependency',\n",
       " '_object_identifier',\n",
       " '_preload_simple_restoration',\n",
       " '_restore_from_checkpoint_position',\n",
       " '_self_name_based_restores',\n",
       " '_self_saveable_object_factories',\n",
       " '_self_setattr_tracking',\n",
       " '_self_unconditional_checkpoint_dependencies',\n",
       " '_self_unconditional_deferred_dependencies',\n",
       " '_self_unconditional_dependency_names',\n",
       " '_self_update_uid',\n",
       " '_setattr_tracking',\n",
       " '_single_restoration_from_checkpoint_position',\n",
       " '_track_trackable',\n",
       " '_tracking_metadata',\n",
       " '_unconditional_checkpoint_dependencies',\n",
       " '_unconditional_dependency_names',\n",
       " '_update_uid',\n",
       " 'call_and_return_all_conditional_losses',\n",
       " 'graph_debug_info',\n",
       " 'keras_api',\n",
       " 'layer-0',\n",
       " 'layer-1',\n",
       " 'layer-10',\n",
       " 'layer-11',\n",
       " 'layer-12',\n",
       " 'layer-13',\n",
       " 'layer-14',\n",
       " 'layer-15',\n",
       " 'layer-16',\n",
       " 'layer-17',\n",
       " 'layer-18',\n",
       " 'layer-19',\n",
       " 'layer-2',\n",
       " 'layer-20',\n",
       " 'layer-21',\n",
       " 'layer-22',\n",
       " 'layer-23',\n",
       " 'layer-24',\n",
       " 'layer-25',\n",
       " 'layer-26',\n",
       " 'layer-27',\n",
       " 'layer-28',\n",
       " 'layer-29',\n",
       " 'layer-3',\n",
       " 'layer-30',\n",
       " 'layer-31',\n",
       " 'layer-32',\n",
       " 'layer-33',\n",
       " 'layer-34',\n",
       " 'layer-35',\n",
       " 'layer-36',\n",
       " 'layer-37',\n",
       " 'layer-38',\n",
       " 'layer-39',\n",
       " 'layer-4',\n",
       " 'layer-40',\n",
       " 'layer-41',\n",
       " 'layer-42',\n",
       " 'layer-43',\n",
       " 'layer-44',\n",
       " 'layer-45',\n",
       " 'layer-46',\n",
       " 'layer-47',\n",
       " 'layer-48',\n",
       " 'layer-49',\n",
       " 'layer-5',\n",
       " 'layer-50',\n",
       " 'layer-51',\n",
       " 'layer-52',\n",
       " 'layer-53',\n",
       " 'layer-54',\n",
       " 'layer-55',\n",
       " 'layer-56',\n",
       " 'layer-57',\n",
       " 'layer-58',\n",
       " 'layer-59',\n",
       " 'layer-6',\n",
       " 'layer-60',\n",
       " 'layer-61',\n",
       " 'layer-62',\n",
       " 'layer-63',\n",
       " 'layer-64',\n",
       " 'layer-7',\n",
       " 'layer-8',\n",
       " 'layer-9',\n",
       " 'layer_with_weights-0',\n",
       " 'layer_with_weights-1',\n",
       " 'layer_with_weights-10',\n",
       " 'layer_with_weights-11',\n",
       " 'layer_with_weights-12',\n",
       " 'layer_with_weights-13',\n",
       " 'layer_with_weights-14',\n",
       " 'layer_with_weights-15',\n",
       " 'layer_with_weights-16',\n",
       " 'layer_with_weights-17',\n",
       " 'layer_with_weights-18',\n",
       " 'layer_with_weights-19',\n",
       " 'layer_with_weights-2',\n",
       " 'layer_with_weights-20',\n",
       " 'layer_with_weights-21',\n",
       " 'layer_with_weights-22',\n",
       " 'layer_with_weights-23',\n",
       " 'layer_with_weights-24',\n",
       " 'layer_with_weights-25',\n",
       " 'layer_with_weights-26',\n",
       " 'layer_with_weights-27',\n",
       " 'layer_with_weights-28',\n",
       " 'layer_with_weights-29',\n",
       " 'layer_with_weights-3',\n",
       " 'layer_with_weights-30',\n",
       " 'layer_with_weights-31',\n",
       " 'layer_with_weights-32',\n",
       " 'layer_with_weights-33',\n",
       " 'layer_with_weights-34',\n",
       " 'layer_with_weights-35',\n",
       " 'layer_with_weights-36',\n",
       " 'layer_with_weights-37',\n",
       " 'layer_with_weights-38',\n",
       " 'layer_with_weights-4',\n",
       " 'layer_with_weights-5',\n",
       " 'layer_with_weights-6',\n",
       " 'layer_with_weights-7',\n",
       " 'layer_with_weights-8',\n",
       " 'layer_with_weights-9',\n",
       " 'optimizer',\n",
       " 'regularization_losses',\n",
       " 'signatures',\n",
       " 'tensorflow_git_version',\n",
       " 'tensorflow_version',\n",
       " 'trainable_variables',\n",
       " 'variables']"
      ]
     },
     "execution_count": 4,
     "metadata": {},
     "output_type": "execute_result"
    }
   ],
   "source": [
    "dir(loaded)"
   ]
  },
  {
   "cell_type": "code",
   "execution_count": null,
   "metadata": {},
   "outputs": [],
   "source": [
    "# Image.fromarray(test_result)\n",
    "# im.save('test.jpg')\n",
    "# plt.savefig(test_result)\n",
    "cv2.imread(test_result)"
   ]
  }
 ],
 "metadata": {
  "kernelspec": {
   "display_name": "Python 3",
   "language": "python",
   "name": "python3"
  },
  "language_info": {
   "codemirror_mode": {
    "name": "ipython",
    "version": 3
   },
   "file_extension": ".py",
   "mimetype": "text/x-python",
   "name": "python",
   "nbconvert_exporter": "python",
   "pygments_lexer": "ipython3",
   "version": "3.7.9"
  }
 },
 "nbformat": 4,
 "nbformat_minor": 4
}
